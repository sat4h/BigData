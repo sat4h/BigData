{
  "nbformat": 4,
  "nbformat_minor": 0,
  "metadata": {
    "colab": {
      "provenance": []
    },
    "kernelspec": {
      "name": "python3",
      "display_name": "Python 3"
    },
    "language_info": {
      "name": "python"
    }
  },
  "cells": [
    {
      "cell_type": "markdown",
      "source": [
        "Лабораторная работа №1\n",
        "\n",
        "Выполнил студент группы 6131 Ионов Артем."
      ],
      "metadata": {
        "id": "aFkjgbZu9gWZ"
      }
    },
    {
      "cell_type": "markdown",
      "source": [
        "1. Найти велосипед с максимальным временем пробега.\n",
        "2. Найти наибольшее геодезическое расстояние между станциями.\n",
        "3. Найти путь велосипеда с максимальным временем пробега через станции.\n",
        "4. Найти количество велосипедов в системе.\n",
        "5. Найти пользователей потративших на поездки более 3 часов."
      ],
      "metadata": {
        "id": "sFgiTlQk9TXS"
      }
    },
    {
      "cell_type": "markdown",
      "source": [
        "Лабораторная работа выполнена в Google colab."
      ],
      "metadata": {
        "id": "hyMO_mWv9zxj"
      }
    },
    {
      "cell_type": "markdown",
      "source": [
        "**Установка PySpark**"
      ],
      "metadata": {
        "id": "MqTHTlQ_9nur"
      }
    },
    {
      "cell_type": "code",
      "execution_count": 1,
      "metadata": {
        "colab": {
          "base_uri": "https://localhost:8080/"
        },
        "id": "3SOm2fcidU2x",
        "outputId": "7315e3dd-4c25-4497-9eae-22ef489192bd"
      },
      "outputs": [
        {
          "output_type": "stream",
          "name": "stdout",
          "text": [
            "Requirement already satisfied: pyspark in /usr/local/lib/python3.10/dist-packages (3.5.0)\n",
            "Requirement already satisfied: py4j==0.10.9.7 in /usr/local/lib/python3.10/dist-packages (from pyspark) (0.10.9.7)\n"
          ]
        }
      ],
      "source": [
        "!pip install pyspark"
      ]
    },
    {
      "cell_type": "markdown",
      "source": [
        "**Импорт необходимых библоитек**"
      ],
      "metadata": {
        "id": "D01Uxrdl9qBM"
      }
    },
    {
      "cell_type": "code",
      "source": [
        "import pyspark\n",
        "from pyspark import SparkContext, SparkConf\n",
        "from typing import NamedTuple\n",
        "from datetime import datetime\n",
        "from functools import reduce"
      ],
      "metadata": {
        "id": "TBkuL7HfeTIS"
      },
      "execution_count": 14,
      "outputs": []
    },
    {
      "cell_type": "markdown",
      "source": [
        "**Создание проекта**"
      ],
      "metadata": {
        "id": "iEpTxkoG9uHL"
      }
    },
    {
      "cell_type": "code",
      "source": [
        "sc = SparkContext(conf=SparkConf().setAppName('L1ItroductionToApacheSpark').setMaster(\"local[*]\"))\n",
        "sc"
      ],
      "metadata": {
        "colab": {
          "base_uri": "https://localhost:8080/",
          "height": 196
        },
        "id": "oiY9STIdeV4y",
        "outputId": "4dfc839b-3765-499e-9877-3f311a989161"
      },
      "execution_count": 3,
      "outputs": [
        {
          "output_type": "execute_result",
          "data": {
            "text/plain": [
              "<SparkContext master=local[*] appName=L1ItroductionToApacheSpark>"
            ],
            "text/html": [
              "\n",
              "        <div>\n",
              "            <p><b>SparkContext</b></p>\n",
              "\n",
              "            <p><a href=\"http://2b72249cfee3:4040\">Spark UI</a></p>\n",
              "\n",
              "            <dl>\n",
              "              <dt>Version</dt>\n",
              "                <dd><code>v3.5.0</code></dd>\n",
              "              <dt>Master</dt>\n",
              "                <dd><code>local[*]</code></dd>\n",
              "              <dt>AppName</dt>\n",
              "                <dd><code>L1ItroductionToApacheSpark</code></dd>\n",
              "            </dl>\n",
              "        </div>\n",
              "        "
            ]
          },
          "metadata": {},
          "execution_count": 3
        }
      ]
    },
    {
      "cell_type": "markdown",
      "source": [
        "**Определение данных**"
      ],
      "metadata": {
        "id": "93WgkAoP98Ny"
      }
    },
    {
      "cell_type": "markdown",
      "source": [
        "Определим заголовки данных"
      ],
      "metadata": {
        "id": "nHVbJt939-p6"
      }
    },
    {
      "cell_type": "code",
      "source": [
        "data_trip = sc.textFile(\"/content/data/trips.csv\")\n",
        "data_station = sc.textFile(\"/content/data/stations.csv\")"
      ],
      "metadata": {
        "id": "c8Ue7gFQeWD3"
      },
      "execution_count": 21,
      "outputs": []
    },
    {
      "cell_type": "markdown",
      "source": [
        "**Отделим заголовки**"
      ],
      "metadata": {
        "id": "-PIhJuIr-WbB"
      }
    },
    {
      "cell_type": "code",
      "source": [
        "headerOfTrips = data_trip.first()\n",
        "headerOfStations = data_station.first()"
      ],
      "metadata": {
        "id": "Q_e2-HCLga08"
      },
      "execution_count": 22,
      "outputs": []
    },
    {
      "cell_type": "code",
      "source": [
        "tripsWithOutHeader = data_trip.filter(lambda row: row != headerOfTrips)\n",
        "stationsWithOutHeader = data_station.filter(lambda row: row != headerOfStations)"
      ],
      "metadata": {
        "id": "p61yI6UdmOUU"
      },
      "execution_count": 23,
      "outputs": []
    },
    {
      "cell_type": "markdown",
      "source": [
        "**Просмотрим заголовки**"
      ],
      "metadata": {
        "id": "iwTDASS8-qep"
      }
    },
    {
      "cell_type": "code",
      "source": [
        "tripsWithOutHeader.take(10)"
      ],
      "metadata": {
        "colab": {
          "base_uri": "https://localhost:8080/"
        },
        "id": "LLW1nlvZmP31",
        "outputId": "23ab3e8c-1f01-4277-b35f-815e34dedf8a"
      },
      "execution_count": 24,
      "outputs": [
        {
          "output_type": "execute_result",
          "data": {
            "text/plain": [
              "['4576,63,,South Van Ness at Market,66,8/29/2013 14:14,South Van Ness at Market,66,520,Subscriber,94127',\n",
              " '4607,,8/29/2013 14:42,San Jose City Hall,10,8/29/2013 14:43,San Jose City Hall,10,661,Subscriber,95138',\n",
              " '4130,71,8/29/2013 10:16,Mountain View City Hall,27,8/29/2013 10:17,Mountain View City Hall,27,48,Subscriber,97214',\n",
              " '4251,77,8/29/2013 11:29,San Jose City Hall,10,8/29/2013 11:30,San Jose City Hall,10,26,Subscriber,95060',\n",
              " '4299,83,8/29/2013 12:02,South Van Ness at Market,66,8/29/2013 12:04,Market at 10th,67,319,Subscriber,94103',\n",
              " '4927,103,8/29/2013 18:54,Golden Gate at Polk,59,8/29/2013 18:56,Golden Gate at Polk,59,527,Subscriber,94109',\n",
              " '4500,109,8/29/2013 13:25,Santa Clara at Almaden,4,8/29/2013 13:27,Adobe on Almaden,5,679,Subscriber,95112',\n",
              " '4563,111,8/29/2013 14:02,San Salvador at 1st,8,8/29/2013 14:04,San Salvador at 1st,8,687,Subscriber,95112',\n",
              " '4760,113,8/29/2013 17:01,South Van Ness at Market,66,8/29/2013 17:03,South Van Ness at Market,66,553,Subscriber,94103',\n",
              " '4258,114,8/29/2013 11:33,San Jose City Hall,10,8/29/2013 11:35,MLK Library,11,107,Subscriber,95060']"
            ]
          },
          "metadata": {},
          "execution_count": 24
        }
      ]
    },
    {
      "cell_type": "code",
      "source": [
        "stationsWithOutHeader.take(10)"
      ],
      "metadata": {
        "colab": {
          "base_uri": "https://localhost:8080/"
        },
        "id": "etOGf6ZdmP7r",
        "outputId": "a58bf2fa-2fc8-4fe5-e490-f8e06d187772"
      },
      "execution_count": 25,
      "outputs": [
        {
          "output_type": "execute_result",
          "data": {
            "text/plain": [
              "['2,San Jose Diridon Caltrain Station,37.329732,-121.90178200000001,27,San Jose,8/6/2013',\n",
              " '3,San Jose Civic Center,37.330698,-121.888979,15,San Jose,8/5/2013',\n",
              " '4,Santa Clara at Almaden,37.333988,-121.894902,11,San Jose,8/6/2013',\n",
              " '5,Adobe on Almaden,37.331415,-121.8932,19,San Jose,8/5/2013',\n",
              " '6,San Pedro Square,37.336721000000004,-121.894074,15,San Jose,8/7/2013',\n",
              " '7,Paseo de San Antonio,37.333798,-121.88694299999999,15,San Jose,8/7/2013',\n",
              " '8,San Salvador at 1st,37.330165,-121.88583100000001,15,San Jose,8/5/2013',\n",
              " '9,Japantown,37.348742,-121.89471499999999,15,San Jose,8/5/2013',\n",
              " '10,San Jose City Hall,37.337391,-121.886995,15,San Jose,8/6/2013',\n",
              " '11,MLK Library,37.335885,-121.88566000000002,19,San Jose,8/6/2013']"
            ]
          },
          "metadata": {},
          "execution_count": 25
        }
      ]
    },
    {
      "cell_type": "markdown",
      "source": [
        "**Сохраним параметры поездок и станций в виде списка**"
      ],
      "metadata": {
        "id": "W2KsmDgh-v43"
      }
    },
    {
      "cell_type": "code",
      "source": [
        "trip_parametr = list(enumerate(headerOfTrips.split(\",\")))\n",
        "station_parametr = list(enumerate(headerOfStations.split(\",\")))"
      ],
      "metadata": {
        "id": "qFu_WEZ4mP-R"
      },
      "execution_count": 26,
      "outputs": []
    },
    {
      "cell_type": "code",
      "source": [
        "trip_parametr"
      ],
      "metadata": {
        "colab": {
          "base_uri": "https://localhost:8080/"
        },
        "id": "IjhQWbzhmUIG",
        "outputId": "8ccc00c2-76bc-435d-e680-b18f49e9325f"
      },
      "execution_count": 27,
      "outputs": [
        {
          "output_type": "execute_result",
          "data": {
            "text/plain": [
              "[(0, 'id'),\n",
              " (1, 'duration'),\n",
              " (2, 'start_date'),\n",
              " (3, 'start_station_name'),\n",
              " (4, 'start_station_id'),\n",
              " (5, 'end_date'),\n",
              " (6, 'end_station_name'),\n",
              " (7, 'end_station_id'),\n",
              " (8, 'bike_id'),\n",
              " (9, 'subscription_type'),\n",
              " (10, 'zip_code')]"
            ]
          },
          "metadata": {},
          "execution_count": 27
        }
      ]
    },
    {
      "cell_type": "code",
      "source": [
        "station_parametr"
      ],
      "metadata": {
        "colab": {
          "base_uri": "https://localhost:8080/"
        },
        "id": "MTBI6UdImVZt",
        "outputId": "4123cd72-4486-4880-ad95-e45fd7534dc2"
      },
      "execution_count": 28,
      "outputs": [
        {
          "output_type": "execute_result",
          "data": {
            "text/plain": [
              "[(0, 'id'),\n",
              " (1, 'name'),\n",
              " (2, 'lat'),\n",
              " (3, 'long'),\n",
              " (4, 'dock_count'),\n",
              " (5, 'city'),\n",
              " (6, 'installation_date')]"
            ]
          },
          "metadata": {},
          "execution_count": 28
        }
      ]
    },
    {
      "cell_type": "markdown",
      "source": [
        "**Для облегченного доступа к данным, перейдем к ячеечному формату**"
      ],
      "metadata": {
        "id": "ac8CbFWP-1Mb"
      }
    },
    {
      "cell_type": "code",
      "source": [
        "final_trips_data = tripsWithOutHeader.map(lambda x: x.split(','))\n",
        "final_stations_data = stationsWithOutHeader.map(lambda x: x.split(','))"
      ],
      "metadata": {
        "id": "5KyzykVymWwT"
      },
      "execution_count": 29,
      "outputs": []
    },
    {
      "cell_type": "code",
      "source": [
        "final_trips_data.take(5)"
      ],
      "metadata": {
        "colab": {
          "base_uri": "https://localhost:8080/"
        },
        "id": "RGTnbyjxmYOQ",
        "outputId": "0299b59a-131b-4bf7-c049-e8a6d17eb1c3"
      },
      "execution_count": 30,
      "outputs": [
        {
          "output_type": "execute_result",
          "data": {
            "text/plain": [
              "[['4576',\n",
              "  '63',\n",
              "  '',\n",
              "  'South Van Ness at Market',\n",
              "  '66',\n",
              "  '8/29/2013 14:14',\n",
              "  'South Van Ness at Market',\n",
              "  '66',\n",
              "  '520',\n",
              "  'Subscriber',\n",
              "  '94127'],\n",
              " ['4607',\n",
              "  '',\n",
              "  '8/29/2013 14:42',\n",
              "  'San Jose City Hall',\n",
              "  '10',\n",
              "  '8/29/2013 14:43',\n",
              "  'San Jose City Hall',\n",
              "  '10',\n",
              "  '661',\n",
              "  'Subscriber',\n",
              "  '95138'],\n",
              " ['4130',\n",
              "  '71',\n",
              "  '8/29/2013 10:16',\n",
              "  'Mountain View City Hall',\n",
              "  '27',\n",
              "  '8/29/2013 10:17',\n",
              "  'Mountain View City Hall',\n",
              "  '27',\n",
              "  '48',\n",
              "  'Subscriber',\n",
              "  '97214'],\n",
              " ['4251',\n",
              "  '77',\n",
              "  '8/29/2013 11:29',\n",
              "  'San Jose City Hall',\n",
              "  '10',\n",
              "  '8/29/2013 11:30',\n",
              "  'San Jose City Hall',\n",
              "  '10',\n",
              "  '26',\n",
              "  'Subscriber',\n",
              "  '95060'],\n",
              " ['4299',\n",
              "  '83',\n",
              "  '8/29/2013 12:02',\n",
              "  'South Van Ness at Market',\n",
              "  '66',\n",
              "  '8/29/2013 12:04',\n",
              "  'Market at 10th',\n",
              "  '67',\n",
              "  '319',\n",
              "  'Subscriber',\n",
              "  '94103']]"
            ]
          },
          "metadata": {},
          "execution_count": 30
        }
      ]
    },
    {
      "cell_type": "code",
      "source": [
        "final_stations_data.take(5)"
      ],
      "metadata": {
        "colab": {
          "base_uri": "https://localhost:8080/"
        },
        "id": "X95OYn6TmZ7k",
        "outputId": "118b6622-8906-4503-8b46-dabbca206667"
      },
      "execution_count": 31,
      "outputs": [
        {
          "output_type": "execute_result",
          "data": {
            "text/plain": [
              "[['2',\n",
              "  'San Jose Diridon Caltrain Station',\n",
              "  '37.329732',\n",
              "  '-121.90178200000001',\n",
              "  '27',\n",
              "  'San Jose',\n",
              "  '8/6/2013'],\n",
              " ['3',\n",
              "  'San Jose Civic Center',\n",
              "  '37.330698',\n",
              "  '-121.888979',\n",
              "  '15',\n",
              "  'San Jose',\n",
              "  '8/5/2013'],\n",
              " ['4',\n",
              "  'Santa Clara at Almaden',\n",
              "  '37.333988',\n",
              "  '-121.894902',\n",
              "  '11',\n",
              "  'San Jose',\n",
              "  '8/6/2013'],\n",
              " ['5',\n",
              "  'Adobe on Almaden',\n",
              "  '37.331415',\n",
              "  '-121.8932',\n",
              "  '19',\n",
              "  'San Jose',\n",
              "  '8/5/2013'],\n",
              " ['6',\n",
              "  'San Pedro Square',\n",
              "  '37.336721000000004',\n",
              "  '-121.894074',\n",
              "  '15',\n",
              "  'San Jose',\n",
              "  '8/7/2013']]"
            ]
          },
          "metadata": {},
          "execution_count": 31
        }
      ]
    },
    {
      "cell_type": "code",
      "source": [
        "trip_parametr"
      ],
      "metadata": {
        "colab": {
          "base_uri": "https://localhost:8080/"
        },
        "id": "s7MZXGvNmbe6",
        "outputId": "69da1dfe-24c9-40d7-844d-aa128a47d0d9"
      },
      "execution_count": 32,
      "outputs": [
        {
          "output_type": "execute_result",
          "data": {
            "text/plain": [
              "[(0, 'id'),\n",
              " (1, 'duration'),\n",
              " (2, 'start_date'),\n",
              " (3, 'start_station_name'),\n",
              " (4, 'start_station_id'),\n",
              " (5, 'end_date'),\n",
              " (6, 'end_station_name'),\n",
              " (7, 'end_station_id'),\n",
              " (8, 'bike_id'),\n",
              " (9, 'subscription_type'),\n",
              " (10, 'zip_code')]"
            ]
          },
          "metadata": {},
          "execution_count": 32
        }
      ]
    },
    {
      "cell_type": "markdown",
      "source": [
        "**На основе данных будем строить модель Trips**"
      ],
      "metadata": {
        "id": "Iz5KLAEa_RJU"
      }
    },
    {
      "cell_type": "code",
      "source": [
        "def initModelTrip(trips):\n",
        "    class Trip(NamedTuple):\n",
        "        trip_id: int\n",
        "        duration: int\n",
        "        start_date: datetime\n",
        "        start_station_name: str\n",
        "        start_station_id: int\n",
        "        end_date: datetime\n",
        "        end_station_name: str\n",
        "        end_station_id: int\n",
        "        bike_id: int\n",
        "        subscription_type: str\n",
        "        zip_code: str\n",
        "\n",
        "    for trip in trips:\n",
        "        try:\n",
        "            yield Trip(\n",
        "             trip_id = int(trip[0]),\n",
        "             duration = int(trip[1]),\n",
        "             start_date = datetime.strptime(trip[2], '%m/%d/%Y %H:%M'),\n",
        "             start_station_name = trip[3],\n",
        "             start_station_id = int(trip[4]),\n",
        "             end_date = datetime.strptime(trip[5], '%m/%d/%Y %H:%M'),\n",
        "             end_station_name = trip[6],\n",
        "             end_station_id = trip[7],\n",
        "             bike_id = int(trip[8]),\n",
        "             subscription_type = trip[9],\n",
        "             zip_code = trip[10]\n",
        "            )\n",
        "        except:\n",
        "            pass"
      ],
      "metadata": {
        "id": "9kGUMj83mc4I"
      },
      "execution_count": 33,
      "outputs": []
    },
    {
      "cell_type": "code",
      "source": [
        "station_parametr"
      ],
      "metadata": {
        "colab": {
          "base_uri": "https://localhost:8080/"
        },
        "id": "G3TmDb3GmeNt",
        "outputId": "6981ec33-d4c0-4216-c3f2-ae666ed5b938"
      },
      "execution_count": 34,
      "outputs": [
        {
          "output_type": "execute_result",
          "data": {
            "text/plain": [
              "[(0, 'id'),\n",
              " (1, 'name'),\n",
              " (2, 'lat'),\n",
              " (3, 'long'),\n",
              " (4, 'dock_count'),\n",
              " (5, 'city'),\n",
              " (6, 'installation_date')]"
            ]
          },
          "metadata": {},
          "execution_count": 34
        }
      ]
    },
    {
      "cell_type": "markdown",
      "source": [
        "**На основе этих данных будем строить модель Stantions**"
      ],
      "metadata": {
        "id": "BS1TYU-R_ZlN"
      }
    },
    {
      "cell_type": "code",
      "source": [
        "def initModelStation(stations):\n",
        "    class Station(NamedTuple):\n",
        "        station_id: int\n",
        "        name: str\n",
        "        lat: float\n",
        "        long: float\n",
        "        dockcount: int\n",
        "        landmark: str\n",
        "        installation: str\n",
        "\n",
        "    for station in stations:\n",
        "        yield Station(\n",
        "            station_id = int(station[0]),\n",
        "            name = station[1],\n",
        "            lat = float(station[2]),\n",
        "            long = float(station[3]),\n",
        "            dockcount = int(station[4]),\n",
        "            landmark = station[5],\n",
        "            installation = datetime.strptime(station[6], '%m/%d/%Y')\n",
        "        )"
      ],
      "metadata": {
        "id": "3YlHpWhAmff9"
      },
      "execution_count": 35,
      "outputs": []
    },
    {
      "cell_type": "markdown",
      "source": [
        "**Применим модель trips**"
      ],
      "metadata": {
        "id": "SHzXnmBw_dM2"
      }
    },
    {
      "cell_type": "code",
      "source": [
        "tripsProcessedByModel = final_trips_data.mapPartitions(initModelTrip)"
      ],
      "metadata": {
        "id": "TaZXW0lJmhBi"
      },
      "execution_count": 36,
      "outputs": []
    },
    {
      "cell_type": "markdown",
      "source": [
        "**Полученный результат:**"
      ],
      "metadata": {
        "id": "NPBCfDpe_gBC"
      }
    },
    {
      "cell_type": "code",
      "source": [
        "tripsProcessedByModel.take(10)"
      ],
      "metadata": {
        "colab": {
          "base_uri": "https://localhost:8080/"
        },
        "id": "KA42B_jhmiEp",
        "outputId": "dce2840b-f539-472c-9462-14f15f7a2602"
      },
      "execution_count": 37,
      "outputs": [
        {
          "output_type": "execute_result",
          "data": {
            "text/plain": [
              "[Trip(trip_id=4130, duration=71, start_date=datetime.datetime(2013, 8, 29, 10, 16), start_station_name='Mountain View City Hall', start_station_id=27, end_date=datetime.datetime(2013, 8, 29, 10, 17), end_station_name='Mountain View City Hall', end_station_id='27', bike_id=48, subscription_type='Subscriber', zip_code='97214'),\n",
              " Trip(trip_id=4251, duration=77, start_date=datetime.datetime(2013, 8, 29, 11, 29), start_station_name='San Jose City Hall', start_station_id=10, end_date=datetime.datetime(2013, 8, 29, 11, 30), end_station_name='San Jose City Hall', end_station_id='10', bike_id=26, subscription_type='Subscriber', zip_code='95060'),\n",
              " Trip(trip_id=4299, duration=83, start_date=datetime.datetime(2013, 8, 29, 12, 2), start_station_name='South Van Ness at Market', start_station_id=66, end_date=datetime.datetime(2013, 8, 29, 12, 4), end_station_name='Market at 10th', end_station_id='67', bike_id=319, subscription_type='Subscriber', zip_code='94103'),\n",
              " Trip(trip_id=4927, duration=103, start_date=datetime.datetime(2013, 8, 29, 18, 54), start_station_name='Golden Gate at Polk', start_station_id=59, end_date=datetime.datetime(2013, 8, 29, 18, 56), end_station_name='Golden Gate at Polk', end_station_id='59', bike_id=527, subscription_type='Subscriber', zip_code='94109'),\n",
              " Trip(trip_id=4500, duration=109, start_date=datetime.datetime(2013, 8, 29, 13, 25), start_station_name='Santa Clara at Almaden', start_station_id=4, end_date=datetime.datetime(2013, 8, 29, 13, 27), end_station_name='Adobe on Almaden', end_station_id='5', bike_id=679, subscription_type='Subscriber', zip_code='95112'),\n",
              " Trip(trip_id=4563, duration=111, start_date=datetime.datetime(2013, 8, 29, 14, 2), start_station_name='San Salvador at 1st', start_station_id=8, end_date=datetime.datetime(2013, 8, 29, 14, 4), end_station_name='San Salvador at 1st', end_station_id='8', bike_id=687, subscription_type='Subscriber', zip_code='95112'),\n",
              " Trip(trip_id=4760, duration=113, start_date=datetime.datetime(2013, 8, 29, 17, 1), start_station_name='South Van Ness at Market', start_station_id=66, end_date=datetime.datetime(2013, 8, 29, 17, 3), end_station_name='South Van Ness at Market', end_station_id='66', bike_id=553, subscription_type='Subscriber', zip_code='94103'),\n",
              " Trip(trip_id=4258, duration=114, start_date=datetime.datetime(2013, 8, 29, 11, 33), start_station_name='San Jose City Hall', start_station_id=10, end_date=datetime.datetime(2013, 8, 29, 11, 35), end_station_name='MLK Library', end_station_id='11', bike_id=107, subscription_type='Subscriber', zip_code='95060'),\n",
              " Trip(trip_id=4549, duration=125, start_date=datetime.datetime(2013, 8, 29, 13, 52), start_station_name='Spear at Folsom', start_station_id=49, end_date=datetime.datetime(2013, 8, 29, 13, 55), end_station_name='Embarcadero at Bryant', end_station_id='54', bike_id=368, subscription_type='Subscriber', zip_code='94109'),\n",
              " Trip(trip_id=4498, duration=126, start_date=datetime.datetime(2013, 8, 29, 13, 23), start_station_name='San Pedro Square', start_station_id=6, end_date=datetime.datetime(2013, 8, 29, 13, 25), end_station_name='Santa Clara at Almaden', end_station_id='4', bike_id=26, subscription_type='Subscriber', zip_code='95112')]"
            ]
          },
          "metadata": {},
          "execution_count": 37
        }
      ]
    },
    {
      "cell_type": "code",
      "source": [
        "stationsProcessedByModel = final_stations_data.mapPartitions(initModelStation)"
      ],
      "metadata": {
        "id": "LqHcwofPmjlj"
      },
      "execution_count": 38,
      "outputs": []
    },
    {
      "cell_type": "code",
      "source": [
        "stationsProcessedByModel.take(10)"
      ],
      "metadata": {
        "colab": {
          "base_uri": "https://localhost:8080/"
        },
        "id": "EZhUp4bTmk3x",
        "outputId": "6bd9c552-e755-4e9c-ecd8-5062161ef976"
      },
      "execution_count": 39,
      "outputs": [
        {
          "output_type": "execute_result",
          "data": {
            "text/plain": [
              "[Station(station_id=2, name='San Jose Diridon Caltrain Station', lat=37.329732, long=-121.90178200000001, dockcount=27, landmark='San Jose', installation=datetime.datetime(2013, 8, 6, 0, 0)),\n",
              " Station(station_id=3, name='San Jose Civic Center', lat=37.330698, long=-121.888979, dockcount=15, landmark='San Jose', installation=datetime.datetime(2013, 8, 5, 0, 0)),\n",
              " Station(station_id=4, name='Santa Clara at Almaden', lat=37.333988, long=-121.894902, dockcount=11, landmark='San Jose', installation=datetime.datetime(2013, 8, 6, 0, 0)),\n",
              " Station(station_id=5, name='Adobe on Almaden', lat=37.331415, long=-121.8932, dockcount=19, landmark='San Jose', installation=datetime.datetime(2013, 8, 5, 0, 0)),\n",
              " Station(station_id=6, name='San Pedro Square', lat=37.336721000000004, long=-121.894074, dockcount=15, landmark='San Jose', installation=datetime.datetime(2013, 8, 7, 0, 0)),\n",
              " Station(station_id=7, name='Paseo de San Antonio', lat=37.333798, long=-121.88694299999999, dockcount=15, landmark='San Jose', installation=datetime.datetime(2013, 8, 7, 0, 0)),\n",
              " Station(station_id=8, name='San Salvador at 1st', lat=37.330165, long=-121.88583100000001, dockcount=15, landmark='San Jose', installation=datetime.datetime(2013, 8, 5, 0, 0)),\n",
              " Station(station_id=9, name='Japantown', lat=37.348742, long=-121.89471499999999, dockcount=15, landmark='San Jose', installation=datetime.datetime(2013, 8, 5, 0, 0)),\n",
              " Station(station_id=10, name='San Jose City Hall', lat=37.337391, long=-121.886995, dockcount=15, landmark='San Jose', installation=datetime.datetime(2013, 8, 6, 0, 0)),\n",
              " Station(station_id=11, name='MLK Library', lat=37.335885, long=-121.88566000000002, dockcount=19, landmark='San Jose', installation=datetime.datetime(2013, 8, 6, 0, 0))]"
            ]
          },
          "metadata": {},
          "execution_count": 39
        }
      ]
    },
    {
      "cell_type": "markdown",
      "source": [
        "**Задание 1. Найти велосипед с максимальным временем пробега.**\n"
      ],
      "metadata": {
        "id": "Q6ICeknbnV32"
      }
    },
    {
      "cell_type": "code",
      "source": [
        "tripMapWithBicycle = tripsProcessedByModel.keyBy(lambda x: x.bike_id)\n",
        "tripMapWithBicycle.take(5)"
      ],
      "metadata": {
        "colab": {
          "base_uri": "https://localhost:8080/"
        },
        "id": "zkI5N7LimmXw",
        "outputId": "bde8c780-d4cf-4f20-f208-5e7cb9096a7e"
      },
      "execution_count": 40,
      "outputs": [
        {
          "output_type": "execute_result",
          "data": {
            "text/plain": [
              "[(48,\n",
              "  Trip(trip_id=4130, duration=71, start_date=datetime.datetime(2013, 8, 29, 10, 16), start_station_name='Mountain View City Hall', start_station_id=27, end_date=datetime.datetime(2013, 8, 29, 10, 17), end_station_name='Mountain View City Hall', end_station_id='27', bike_id=48, subscription_type='Subscriber', zip_code='97214')),\n",
              " (26,\n",
              "  Trip(trip_id=4251, duration=77, start_date=datetime.datetime(2013, 8, 29, 11, 29), start_station_name='San Jose City Hall', start_station_id=10, end_date=datetime.datetime(2013, 8, 29, 11, 30), end_station_name='San Jose City Hall', end_station_id='10', bike_id=26, subscription_type='Subscriber', zip_code='95060')),\n",
              " (319,\n",
              "  Trip(trip_id=4299, duration=83, start_date=datetime.datetime(2013, 8, 29, 12, 2), start_station_name='South Van Ness at Market', start_station_id=66, end_date=datetime.datetime(2013, 8, 29, 12, 4), end_station_name='Market at 10th', end_station_id='67', bike_id=319, subscription_type='Subscriber', zip_code='94103')),\n",
              " (527,\n",
              "  Trip(trip_id=4927, duration=103, start_date=datetime.datetime(2013, 8, 29, 18, 54), start_station_name='Golden Gate at Polk', start_station_id=59, end_date=datetime.datetime(2013, 8, 29, 18, 56), end_station_name='Golden Gate at Polk', end_station_id='59', bike_id=527, subscription_type='Subscriber', zip_code='94109')),\n",
              " (679,\n",
              "  Trip(trip_id=4500, duration=109, start_date=datetime.datetime(2013, 8, 29, 13, 25), start_station_name='Santa Clara at Almaden', start_station_id=4, end_date=datetime.datetime(2013, 8, 29, 13, 27), end_station_name='Adobe on Almaden', end_station_id='5', bike_id=679, subscription_type='Subscriber', zip_code='95112'))]"
            ]
          },
          "metadata": {},
          "execution_count": 40
        }
      ]
    },
    {
      "cell_type": "markdown",
      "source": [
        "Разгруппируем данные по продолжительности"
      ],
      "metadata": {
        "id": "GNBHVcxeAFZQ"
      }
    },
    {
      "cell_type": "code",
      "source": [
        "durationBicycleMap = tripMapWithBicycle.mapValues(lambda x: x.duration).reduceByKey(lambda x1, x2: x1 + x2)"
      ],
      "metadata": {
        "id": "ztpy49p7moFG"
      },
      "execution_count": 42,
      "outputs": []
    },
    {
      "cell_type": "markdown",
      "source": [
        "Определим 1 место по продолжительности"
      ],
      "metadata": {
        "id": "PIXYt66DAKdO"
      }
    },
    {
      "cell_type": "code",
      "source": [
        "topOfDurationBicycleMap = durationBicycleMap.top(1, key=lambda x: x[1])[0][0]"
      ],
      "metadata": {
        "id": "invj3vcimqXq"
      },
      "execution_count": 43,
      "outputs": []
    },
    {
      "cell_type": "markdown",
      "source": [
        "**Ответ на задание 1:**"
      ],
      "metadata": {
        "id": "719blwTkASKH"
      }
    },
    {
      "cell_type": "code",
      "source": [
        "topOfDurationBicycleMap"
      ],
      "metadata": {
        "colab": {
          "base_uri": "https://localhost:8080/"
        },
        "id": "RQf-cmVJmrty",
        "outputId": "dbb14710-ffa4-49f6-d2da-f14545ee6abb"
      },
      "execution_count": 44,
      "outputs": [
        {
          "output_type": "execute_result",
          "data": {
            "text/plain": [
              "535"
            ]
          },
          "metadata": {},
          "execution_count": 44
        }
      ]
    },
    {
      "cell_type": "markdown",
      "source": [
        "**Задание 2. Найти наибольшее геодезическое расстояние между станциями.**"
      ],
      "metadata": {
        "id": "7BBC1nZJnONT"
      }
    },
    {
      "cell_type": "code",
      "source": [
        "from math import *"
      ],
      "metadata": {
        "id": "a_Ltpc18mtDm"
      },
      "execution_count": 45,
      "outputs": []
    },
    {
      "cell_type": "markdown",
      "source": [
        "Библиотека понадобится для математических вычислений для расчета расстояния между станциями"
      ],
      "metadata": {
        "id": "HjGKgs3RAavQ"
      }
    },
    {
      "cell_type": "code",
      "source": [
        "def distanceBetweenStations(gLatitudeFirstStation, gLongitudeFirstStation, gLatitudeSecondStation, gLongitudeSecondStation):\n",
        "  earth_radius = 6371.0088\n",
        "  gLatitudeFirstStation, gLongitudeFirstStation = radians(gLatitudeFirstStation), radians(gLongitudeFirstStation)\n",
        "  gLatitudeSecondStation, gLongitudeSecondStation = radians(gLatitudeSecondStation), radians(gLongitudeSecondStation)\n",
        "\n",
        "  differenceLatitude = gLatitudeSecondStation - gLatitudeFirstStation\n",
        "  differenceLongitude = gLongitudeSecondStation - gLongitudeFirstStation\n",
        "\n",
        "  haversinusLatitutde = (sin(differenceLatitude / 2)) ** 2\n",
        "  haversinusLongitude = (sin(differenceLongitude / 2)) ** 2\n",
        "\n",
        "  return 2 * earth_radius * sqrt(haversinusLatitutde + cos(gLatitudeFirstStation)\\\n",
        "                                 * cos(gLatitudeSecondStation) * haversinusLongitude)"
      ],
      "metadata": {
        "id": "vcM1W5I1mvW1"
      },
      "execution_count": 46,
      "outputs": []
    },
    {
      "cell_type": "markdown",
      "source": [
        "Вычисление расстояния"
      ],
      "metadata": {
        "id": "6I9RljYeAhnh"
      }
    },
    {
      "cell_type": "code",
      "source": [
        "mapDistance = stationsProcessedByModel.cartesian(stationsProcessedByModel)\\\n",
        "                         .filter(lambda x: x[0].station_id != x[1].station_id)\\\n",
        "                         .map(lambda x: [x[0], x[1], distanceBetweenStations(x[0].lat, x[0].long, x[1].lat, x[1].long)])\\\n",
        "                         .keyBy(lambda x: (x[0].name, x[1].name))\\\n",
        "                         .reduce(lambda x1, x2: x1 if x1[1] > x2[1] else x2)"
      ],
      "metadata": {
        "id": "UexyDzotmwtI"
      },
      "execution_count": 47,
      "outputs": []
    },
    {
      "cell_type": "code",
      "source": [
        "wayBetweenStantion = mapDistance[0]\n",
        "kilometrsBetweenStantion = mapDistance[1][2]"
      ],
      "metadata": {
        "id": "m1hizGa8mxyF"
      },
      "execution_count": 48,
      "outputs": []
    },
    {
      "cell_type": "markdown",
      "source": [
        "**Ответ на задание 2:**"
      ],
      "metadata": {
        "id": "M5iJWDXgAowO"
      }
    },
    {
      "cell_type": "code",
      "source": [
        "print(f\"Наибольшее расстояние между станциями: {wayBetweenStantion}, {kilometrsBetweenStantion}.\")"
      ],
      "metadata": {
        "colab": {
          "base_uri": "https://localhost:8080/"
        },
        "id": "9FxKFBfMmzIn",
        "outputId": "458f6d40-5bb2-467e-ff92-6b0969e68bdf"
      },
      "execution_count": 55,
      "outputs": [
        {
          "output_type": "stream",
          "name": "stdout",
          "text": [
            "Наибольшее расстояние между станциями: ('Ryland Park', 'Mezes Park'), 34.317914350160784.\n"
          ]
        }
      ]
    },
    {
      "cell_type": "markdown",
      "source": [
        "**Задание 3. Найти путь велосипеда с максимальным временем пробега через станции.**"
      ],
      "metadata": {
        "id": "9D0NGjNEnHge"
      }
    },
    {
      "cell_type": "code",
      "source": [
        "wayBicycleWithMaxDuration = tripsProcessedByModel.filter(lambda x: x.bike_id == topOfDurationBicycleMap)\\\n",
        ".sortBy(lambda x: x.start_date).map(lambda x: (x.start_station_name, x.end_station_name))"
      ],
      "metadata": {
        "id": "awocz-YYm0P1"
      },
      "execution_count": 50,
      "outputs": []
    },
    {
      "cell_type": "code",
      "source": [
        "wayBicycleWithMaxDuration.take(10)"
      ],
      "metadata": {
        "colab": {
          "base_uri": "https://localhost:8080/"
        },
        "id": "TpWjyldem1kx",
        "outputId": "963a4212-00c1-48cf-9807-64973ca09192"
      },
      "execution_count": 51,
      "outputs": [
        {
          "output_type": "execute_result",
          "data": {
            "text/plain": [
              "[('Post at Kearney', 'San Francisco Caltrain (Townsend at 4th)'),\n",
              " ('San Francisco Caltrain (Townsend at 4th)',\n",
              "  'San Francisco Caltrain 2 (330 Townsend)'),\n",
              " ('San Francisco Caltrain 2 (330 Townsend)', 'Market at Sansome'),\n",
              " ('Market at Sansome', '2nd at South Park'),\n",
              " ('2nd at Townsend', 'Davis at Jackson'),\n",
              " ('San Francisco City Hall', 'Civic Center BART (7th at Market)'),\n",
              " ('Civic Center BART (7th at Market)', 'Post at Kearney'),\n",
              " ('Post at Kearney', 'Embarcadero at Sansome'),\n",
              " ('Embarcadero at Sansome', 'Washington at Kearney'),\n",
              " ('Washington at Kearney', 'Market at Sansome')]"
            ]
          },
          "metadata": {},
          "execution_count": 51
        }
      ]
    },
    {
      "cell_type": "markdown",
      "source": [
        "**Задание 4. Найти количество велосипедов в системе.**"
      ],
      "metadata": {
        "id": "trkznt0vm4DL"
      }
    },
    {
      "cell_type": "code",
      "source": [
        "countOfBicycle = tripsProcessedByModel.map(lambda x: x.bike_id).distinct().count()"
      ],
      "metadata": {
        "id": "SSy1ElQ0m47U"
      },
      "execution_count": 52,
      "outputs": []
    },
    {
      "cell_type": "markdown",
      "source": [
        "**Ответ на задание 4:**"
      ],
      "metadata": {
        "id": "daAkB29LA7nQ"
      }
    },
    {
      "cell_type": "code",
      "source": [
        "countOfBicycle"
      ],
      "metadata": {
        "colab": {
          "base_uri": "https://localhost:8080/"
        },
        "id": "tOvKt9yim6j_",
        "outputId": "31e0c744-6346-433e-af73-c77c9d4f3934"
      },
      "execution_count": 53,
      "outputs": [
        {
          "output_type": "execute_result",
          "data": {
            "text/plain": [
              "700"
            ]
          },
          "metadata": {},
          "execution_count": 53
        }
      ]
    },
    {
      "cell_type": "markdown",
      "source": [
        "**Задание 5. Найти пользователей потративших на поездки более 3 часов.**"
      ],
      "metadata": {
        "id": "FAlW4AcVm7c0"
      }
    },
    {
      "cell_type": "code",
      "source": [
        "threeHours = 3*60*60\n",
        "usersOfBicycle = tripsProcessedByModel.filter(lambda x: x.duration > threeHours)\\\n",
        ".map(lambda x: x.zip_code).filter(lambda x: x != \"\").distinct()"
      ],
      "metadata": {
        "id": "wlUCx6sxm8d4"
      },
      "execution_count": 56,
      "outputs": []
    },
    {
      "cell_type": "markdown",
      "source": [
        "Ниже вывел 10 пользователей, потративших на поездки более 3 часов"
      ],
      "metadata": {
        "id": "fipeEbnbBNk9"
      }
    },
    {
      "cell_type": "code",
      "source": [
        "print('10 пользователей, потративших на поездки более 3 часов = ', usersOfBicycle.take(10))"
      ],
      "metadata": {
        "colab": {
          "base_uri": "https://localhost:8080/"
        },
        "id": "uY89fLYnm-Qa",
        "outputId": "11c4ac4b-8da3-42c2-8e76-8df552f6da37"
      },
      "execution_count": 58,
      "outputs": [
        {
          "output_type": "stream",
          "name": "stdout",
          "text": [
            "10 пользователей, потративших на поездки более 3 часов =  ['58553', '94301', '94039', '94133', '93726', '94123', '4517', '29200', '45322', '94080']\n"
          ]
        }
      ]
    }
  ]
}