{
  "nbformat": 4,
  "nbformat_minor": 0,
  "metadata": {
    "colab": {
      "provenance": []
    },
    "kernelspec": {
      "name": "python3",
      "display_name": "Python 3"
    },
    "language_info": {
      "name": "python"
    }
  },
  "cells": [
    {
      "cell_type": "code",
      "source": [
        "!pip install pyspark"
      ],
      "metadata": {
        "colab": {
          "base_uri": "https://localhost:8080/"
        },
        "id": "6KX346si_4OI",
        "outputId": "c79c4a22-9eb3-47e3-c8bc-07adf00e987b"
      },
      "execution_count": 2,
      "outputs": [
        {
          "output_type": "stream",
          "name": "stdout",
          "text": [
            "Collecting pyspark\n",
            "  Downloading pyspark-3.5.0.tar.gz (316.9 MB)\n",
            "\u001b[2K     \u001b[90m━━━━━━━━━━━━━━━━━━━━━━━━━━━━━━━━━━━━━━━━\u001b[0m \u001b[32m316.9/316.9 MB\u001b[0m \u001b[31m2.8 MB/s\u001b[0m eta \u001b[36m0:00:00\u001b[0m\n",
            "\u001b[?25h  Preparing metadata (setup.py) ... \u001b[?25l\u001b[?25hdone\n",
            "Requirement already satisfied: py4j==0.10.9.7 in /usr/local/lib/python3.10/dist-packages (from pyspark) (0.10.9.7)\n",
            "Building wheels for collected packages: pyspark\n",
            "  Building wheel for pyspark (setup.py) ... \u001b[?25l\u001b[?25hdone\n",
            "  Created wheel for pyspark: filename=pyspark-3.5.0-py2.py3-none-any.whl size=317425345 sha256=7f059646bb2f082d28abfd49cb78d2e140119236c5914ca784876f06775fe1cc\n",
            "  Stored in directory: /root/.cache/pip/wheels/41/4e/10/c2cf2467f71c678cfc8a6b9ac9241e5e44a01940da8fbb17fc\n",
            "Successfully built pyspark\n",
            "Installing collected packages: pyspark\n",
            "Successfully installed pyspark-3.5.0\n"
          ]
        }
      ]
    },
    {
      "cell_type": "code",
      "execution_count": 16,
      "metadata": {
        "id": "n8_5CvHi_PNI"
      },
      "outputs": [],
      "source": [
        "import pyspark\n",
        "import os\n",
        "\n",
        "from datetime import datetime\n",
        "from pyspark.sql.functions import col\n",
        "from pyspark.sql import SparkSession\n",
        "from pyspark import SparkContext, SparkConf\n",
        "from pyspark.sql.types import StructType, StructField, StringType, DateType"
      ]
    },
    {
      "cell_type": "code",
      "source": [
        "from google.colab import drive\n",
        "drive.mount('/content/drive')\n",
        "path = 'drive/MyDrive/MyData/'"
      ],
      "metadata": {
        "id": "ZHrJnR0s_r-Z",
        "colab": {
          "base_uri": "https://localhost:8080/"
        },
        "outputId": "3fddd2c3-a0ae-4d50-d221-b68bc023def4"
      },
      "execution_count": 4,
      "outputs": [
        {
          "output_type": "stream",
          "name": "stdout",
          "text": [
            "Mounted at /content/drive\n"
          ]
        }
      ]
    },
    {
      "cell_type": "code",
      "source": [
        "os.environ['PYSPARK_SUBMIT_ARGS'] = '--packages com.databricks:spark-xml_2.12:0.13.0 pyspark-shell'\n",
        "\n",
        "app_name = \"lb2\"\n",
        "\n",
        "sc = SparkSession.builder.appName(app_name).master(\"local[*]\").getOrCreate()\n",
        "sc"
      ],
      "metadata": {
        "colab": {
          "base_uri": "https://localhost:8080/",
          "height": 219
        },
        "id": "DK3si675B52N",
        "outputId": "9b099184-0c29-4894-ef30-b2ddb0e58fe4"
      },
      "execution_count": 13,
      "outputs": [
        {
          "output_type": "execute_result",
          "data": {
            "text/plain": [
              "<pyspark.sql.session.SparkSession at 0x7878fc151120>"
            ],
            "text/html": [
              "\n",
              "            <div>\n",
              "                <p><b>SparkSession - in-memory</b></p>\n",
              "                \n",
              "        <div>\n",
              "            <p><b>SparkContext</b></p>\n",
              "\n",
              "            <p><a href=\"http://7e5e693d18a9:4040\">Spark UI</a></p>\n",
              "\n",
              "            <dl>\n",
              "              <dt>Version</dt>\n",
              "                <dd><code>v3.5.0</code></dd>\n",
              "              <dt>Master</dt>\n",
              "                <dd><code>local[*]</code></dd>\n",
              "              <dt>AppName</dt>\n",
              "                <dd><code>lb2</code></dd>\n",
              "            </dl>\n",
              "        </div>\n",
              "        \n",
              "            </div>\n",
              "        "
            ]
          },
          "metadata": {},
          "execution_count": 13
        }
      ]
    },
    {
      "cell_type": "code",
      "source": [
        "data = sc.read.csv(path + \"/bigdataset/data/programming-languages.csv\")"
      ],
      "metadata": {
        "id": "LRPQD-H_CNSK"
      },
      "execution_count": 6,
      "outputs": []
    },
    {
      "cell_type": "code",
      "source": [
        "languages = [str(x[0]) for x in data.collect()]\n",
        "\n",
        "languages[:10]"
      ],
      "metadata": {
        "colab": {
          "base_uri": "https://localhost:8080/"
        },
        "id": "jSB6GYeoEJIR",
        "outputId": "356d085b-aba7-475a-b4d3-12b8e403d833"
      },
      "execution_count": 7,
      "outputs": [
        {
          "output_type": "execute_result",
          "data": {
            "text/plain": [
              "['name',\n",
              " 'A# .NET',\n",
              " 'A# (Axiom)',\n",
              " 'A-0 System',\n",
              " 'A+',\n",
              " 'A++',\n",
              " 'ABAP',\n",
              " 'ABC',\n",
              " 'ABC ALGOL',\n",
              " 'ABSET']"
            ]
          },
          "metadata": {},
          "execution_count": 7
        }
      ]
    },
    {
      "cell_type": "code",
      "source": [
        "posts_samples = sc.read.format(\"xml\").options(rowTag=\"row\").load(path + '/bigdataset/data/posts_sample.xml')\n",
        "\n",
        "posts_samples.first()"
      ],
      "metadata": {
        "colab": {
          "base_uri": "https://localhost:8080/"
        },
        "id": "Tj-mHVDdEefQ",
        "outputId": "5516ee1a-4422-44be-cf50-2bffa61edbe3"
      },
      "execution_count": 8,
      "outputs": [
        {
          "output_type": "execute_result",
          "data": {
            "text/plain": [
              "Row(_AcceptedAnswerId=7, _AnswerCount=13, _Body=\"<p>I want to use a track-bar to change a form's opacity.</p>\\n\\n<p>This is my code:</p>\\n\\n<pre><code>decimal trans = trackBar1.Value / 5000;\\nthis.Opacity = trans;\\n</code></pre>\\n\\n<p>When I build the application, it gives the following error:</p>\\n\\n<blockquote>\\n  <p>Cannot implicitly convert type <code>'decimal'</code> to <code>'double'</code></p>\\n</blockquote>\\n\\n<p>I tried using <code>trans</code> and <code>double</code> but then the control doesn't work. This code worked fine in a past VB.NET project.</p>\\n\", _ClosedDate=None, _CommentCount=2, _CommunityOwnedDate=datetime.datetime(2012, 10, 31, 16, 42, 47, 213000), _CreationDate=datetime.datetime(2008, 7, 31, 21, 42, 52, 667000), _FavoriteCount=48, _Id=4, _LastActivityDate=datetime.datetime(2019, 7, 19, 1, 39, 54, 173000), _LastEditDate=datetime.datetime(2019, 7, 19, 1, 39, 54, 173000), _LastEditorDisplayName='Rich B', _LastEditorUserId=3641067, _OwnerDisplayName=None, _OwnerUserId=8, _ParentId=None, _PostTypeId=1, _Score=630, _Tags='<c#><floating-point><type-conversion><double><decimal>', _Title='Convert Decimal to Double?', _ViewCount=42817)"
            ]
          },
          "metadata": {},
          "execution_count": 8
        }
      ]
    },
    {
      "cell_type": "markdown",
      "source": [
        "Функция для обработки данных"
      ],
      "metadata": {
        "id": "Bu-hzON3EuPo"
      }
    },
    {
      "cell_type": "code",
      "source": [
        "def findLanguages(x):\n",
        "  tag = None\n",
        "\n",
        "# Ищем вхождение названия ЯП в строке в нижнем регистре\n",
        "  for language in languages:\n",
        "    if \"<\" + language.lower() + \">\" in x._Tags.lower():\n",
        "      tag = language\n",
        "      break\n",
        "\n",
        "  if tag is None:\n",
        "    return None\n",
        "\n",
        "  return (x._Id, tag)"
      ],
      "metadata": {
        "id": "xsfg8Tw9EwSn"
      },
      "execution_count": 9,
      "outputs": []
    },
    {
      "cell_type": "code",
      "source": [
        "def isDateValid(x, year):\n",
        "  start = datetime(year=year, month=1, day=1)\n",
        "  end = datetime(year=year, month=12, day=31)\n",
        "\n",
        "  CreationDate = x._CreationDate\n",
        "\n",
        "  return CreationDate >= start and CreationDate <= end"
      ],
      "metadata": {
        "id": "0lZ_vHoQEzsS"
      },
      "execution_count": 10,
      "outputs": []
    },
    {
      "cell_type": "markdown",
      "source": [
        "Обработка"
      ],
      "metadata": {
        "id": "_BzO7CVZE1Y4"
      }
    },
    {
      "cell_type": "code",
      "source": [
        "result = {}\n",
        "\n",
        "for year in range(2010, 2020):\n",
        "  result[year] = posts_samples.rdd\\\n",
        "      .filter(lambda x: x._Tags is not None and isDateValid(x, year))\\\n",
        "      .map(findLanguages)\\\n",
        "      .filter(lambda x: x is not None)\\\n",
        "      .keyBy(lambda x: x[1])\\\n",
        "      .aggregateByKey(\n",
        "          0,\n",
        "          lambda x, y: x + 1,\n",
        "          lambda x1, x2: x1 + x2,\n",
        "      )\\\n",
        "      .sortBy(lambda x: x[1], ascending=False)\\\n",
        "      .toDF()\n",
        "\n",
        "  result[year] = result[year].select(col(\"_1\").alias(\"Language\"),\n",
        "                                                 col(\"_2\").alias(f\"Mentions_{year}\")).limit(10)\n",
        "  result[year].show()"
      ],
      "metadata": {
        "colab": {
          "base_uri": "https://localhost:8080/"
        },
        "id": "LObmDQW6E05B",
        "outputId": "f5fc4ac6-2a9d-4f6e-f491-29db4c8ba954"
      },
      "execution_count": 11,
      "outputs": [
        {
          "output_type": "stream",
          "name": "stdout",
          "text": [
            "+-----------+-------------+\n",
            "|   Language|Mentions_2010|\n",
            "+-----------+-------------+\n",
            "|       Java|           52|\n",
            "| JavaScript|           44|\n",
            "|        PHP|           42|\n",
            "|     Python|           25|\n",
            "|Objective-C|           22|\n",
            "|          C|           20|\n",
            "|       Ruby|           11|\n",
            "|     Delphi|            7|\n",
            "|          R|            3|\n",
            "|       Bash|            3|\n",
            "+-----------+-------------+\n",
            "\n",
            "+-----------+-------------+\n",
            "|   Language|Mentions_2011|\n",
            "+-----------+-------------+\n",
            "|        PHP|           97|\n",
            "|       Java|           92|\n",
            "| JavaScript|           82|\n",
            "|     Python|           35|\n",
            "|Objective-C|           33|\n",
            "|          C|           24|\n",
            "|       Ruby|           17|\n",
            "|     Delphi|            8|\n",
            "|       Perl|            8|\n",
            "|       Bash|            7|\n",
            "+-----------+-------------+\n",
            "\n",
            "+-----------+-------------+\n",
            "|   Language|Mentions_2012|\n",
            "+-----------+-------------+\n",
            "|        PHP|          136|\n",
            "| JavaScript|          129|\n",
            "|       Java|          124|\n",
            "|     Python|           65|\n",
            "|Objective-C|           45|\n",
            "|          C|           27|\n",
            "|       Ruby|           25|\n",
            "|       Bash|            9|\n",
            "|          R|            9|\n",
            "|     MATLAB|            6|\n",
            "+-----------+-------------+\n",
            "\n",
            "+-----------+-------------+\n",
            "|   Language|Mentions_2013|\n",
            "+-----------+-------------+\n",
            "| JavaScript|          196|\n",
            "|       Java|          191|\n",
            "|        PHP|          173|\n",
            "|     Python|           87|\n",
            "|Objective-C|           40|\n",
            "|          C|           36|\n",
            "|       Ruby|           30|\n",
            "|          R|           25|\n",
            "|       Bash|           11|\n",
            "|      Scala|           10|\n",
            "+-----------+-------------+\n",
            "\n",
            "+-----------+-------------+\n",
            "|   Language|Mentions_2014|\n",
            "+-----------+-------------+\n",
            "| JavaScript|          235|\n",
            "|       Java|          228|\n",
            "|        PHP|          154|\n",
            "|     Python|          103|\n",
            "|          C|           52|\n",
            "|Objective-C|           49|\n",
            "|          R|           28|\n",
            "|       Ruby|           20|\n",
            "|     MATLAB|           16|\n",
            "|       Bash|           13|\n",
            "+-----------+-------------+\n",
            "\n",
            "+-----------+-------------+\n",
            "|   Language|Mentions_2015|\n",
            "+-----------+-------------+\n",
            "| JavaScript|          270|\n",
            "|       Java|          208|\n",
            "|        PHP|          147|\n",
            "|     Python|          119|\n",
            "|          R|           43|\n",
            "|          C|           38|\n",
            "|Objective-C|           30|\n",
            "|       Ruby|           20|\n",
            "|     MATLAB|           16|\n",
            "|      Scala|           13|\n",
            "+-----------+-------------+\n",
            "\n",
            "+----------+-------------+\n",
            "|  Language|Mentions_2016|\n",
            "+----------+-------------+\n",
            "|JavaScript|          271|\n",
            "|      Java|          178|\n",
            "|    Python|          140|\n",
            "|       PHP|          126|\n",
            "|         R|           50|\n",
            "|         C|           32|\n",
            "|      Ruby|           21|\n",
            "|      Bash|           16|\n",
            "|     Scala|           16|\n",
            "|    MATLAB|           15|\n",
            "+----------+-------------+\n",
            "\n",
            "+-----------+-------------+\n",
            "|   Language|Mentions_2017|\n",
            "+-----------+-------------+\n",
            "| JavaScript|          244|\n",
            "|       Java|          204|\n",
            "|     Python|          185|\n",
            "|        PHP|          122|\n",
            "|          R|           53|\n",
            "|          C|           24|\n",
            "|Objective-C|           19|\n",
            "|       Ruby|           16|\n",
            "| TypeScript|           14|\n",
            "| PowerShell|           14|\n",
            "+-----------+-------------+\n",
            "\n",
            "+----------+-------------+\n",
            "|  Language|Mentions_2018|\n",
            "+----------+-------------+\n",
            "|    Python|          214|\n",
            "|JavaScript|          194|\n",
            "|      Java|          145|\n",
            "|       PHP|           99|\n",
            "|         R|           63|\n",
            "|         C|           24|\n",
            "|     Scala|           22|\n",
            "|TypeScript|           21|\n",
            "|PowerShell|           13|\n",
            "|      Bash|           12|\n",
            "+----------+-------------+\n",
            "\n",
            "+----------+-------------+\n",
            "|  Language|Mentions_2019|\n",
            "+----------+-------------+\n",
            "|    Python|          162|\n",
            "|JavaScript|          131|\n",
            "|      Java|           95|\n",
            "|       PHP|           59|\n",
            "|         R|           36|\n",
            "|         C|           14|\n",
            "|        Go|            9|\n",
            "|    MATLAB|            9|\n",
            "|      Dart|            9|\n",
            "|      Bash|            8|\n",
            "+----------+-------------+\n",
            "\n"
          ]
        }
      ]
    },
    {
      "cell_type": "code",
      "source": [
        "from pyspark.sql import SparkSession\n",
        "\n",
        "spark = SparkSession.builder.appName(app_name).getOrCreate()\n",
        "\n",
        "# сохраняем результаты в Parquet формате\n",
        "for year in range(2010, 2020):\n",
        "    result[year].write.mode(\"overwrite\").parquet(path + f\"result_{year}.parquet\")"
      ],
      "metadata": {
        "id": "BWCTomaSYySO"
      },
      "execution_count": 19,
      "outputs": []
    }
  ]
}